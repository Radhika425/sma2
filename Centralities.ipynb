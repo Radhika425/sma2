import networkx as nx
import matplotlib.pyplot as plt
import numpy as np
from collections import defaultdict

# Sample retweet data
# retweet_data = [
#     ("userA", "userB"),
#     ("userC", "userB"),
#     ("userD", "userA"),
#     ("userE", "userB"),
#     ("userF", "userC"),
#     ("userC", "userD"),
#     ("userG", "userD"),
# ]

# # Create directed graph
# G = nx.DiGraph()
# G.add_edges_from(retweet_data)

# Create the Erdős–Rényi graph
G = nx.erdos_renyi_graph(n=10, p=0.3, seed=42)

# Draw the graph
plt.figure(figsize=(8, 6))
pos = nx.spring_layout(G)
nx.draw(G, pos, with_labels=True, node_color='skyblue', node_size=2000, edge_color='gray', arrowsize=20)
plt.title("Erdős–Rényi Random Graph (n=10, p=0.3)")
plt.show()

# Inbuilt Centralities
deg_cent = nx.degree_centrality(G)
print("Degree Centrality (Inbuilt):", deg_cent)

close_cent = nx.closeness_centrality(G)
print("Closeness Centrality (Inbuilt):", close_cent)

btw_cent = nx.betweenness_centrality(G)
print("Betweenness Centrality (Inbuilt):", btw_cent)

katz_cent = nx.katz_centrality(G, alpha=0.1, beta=1.0)
print("Katz Centrality (Inbuilt):", katz_cent)

eig_cent = nx.eigenvector_centrality(G, max_iter=1000)
print("Eigenvector Centrality (Inbuilt):", eig_cent)

# Manual Centralities
def manual_degree_centrality(G):
    N = len(G) - 1
    return {node: G.degree(node)/N for node in G.nodes()} if N > 0 else {}
def manual_closeness_centrality(G):
    closeness = {}
    for node in G.nodes():
        path_lengths = nx.single_source_shortest_path_length(G, node)
        total = sum(path_lengths.values())
        if total > 0 and len(G) > 1:
            closeness[node] = (len(path_lengths)-1) / total
        else:
            closeness[node] = 0.0
    return closeness
def manual_betweenness_centrality(G):
    betweenness = dict.fromkeys(G.nodes(), 0.0)
    for s in G.nodes():
        stack = []
        pred = {w: [] for w in G.nodes()}
        sigma = dict.fromkeys(G.nodes(), 0.0) #shortest path
        dist = dict.fromkeys(G.nodes(), -1)
        sigma[s] = 1.0
        dist[s] = 0
        queue = [s]

        while queue:
            v = queue.pop(0)
            stack.append(v)
            for w in G.neighbors(v):  # Use neighbors for undirected graphs
                if dist[w] < 0:
                    queue.append(w)
                    dist[w] = dist[v] + 1
                if dist[w] == dist[v] + 1:
                    sigma[w] += sigma[v]
                    pred[w].append(v)
         delta = dict.fromkeys(G.nodes(), 0.0)
          while stack:
              w = stack.pop()
              for v in pred[w]:
                  delta[v] += (sigma[v] / sigma[w]) * (1 + delta[w])
              if w != s:
                  betweenness[w] += delta[w]

    scale = 1 / ((len(G) - 1) * (len(G) - 2)) if len(G) > 2 else 1.0
    for v in betweenness:
        betweenness[v] *= scale
    return betweenness

def manual_katz_centrality(G, alpha=0.1, beta=1.0, max_iter=100, tol=1e-6):
    nodes = list(G.nodes())
    centrality = dict.fromkeys(nodes, 1.0)

    for _ in range(max_iter):
        prev_centrality = centrality.copy()
        for n in nodes:
            centrality[n] = beta + alpha * sum(prev_centrality[nb] for nb in G.neighbors(n))

        # Check convergence
        if all(abs(centrality[n] - prev_centrality[n]) < tol for n in nodes):
            break
    return centrality

def manual_eigenvector_centrality(G, max_iter=1000, tol=1e-6):
    nodes = list(G.nodes())
    n = len(nodes)
    centrality = np.ones(n)
    adjacency_matrix = np.zeros((n, n))
    # Create adjacency matrix for the graph
    node_index = {node: i for i, node in enumerate(nodes)}
    for u, v in G.edges():
        adjacency_matrix[node_index[u], node_index[v]] = 1
     # Iterate to compute the eigenvector centrality
    for _ in range(max_iter):
        prev_centrality = centrality.copy()
        centrality = np.dot(adjacency_matrix, centrality)
        norm = np.linalg.norm(centrality, 2)
        centrality = centrality / norm  # Normalize the vector

        # Check for convergence
        if np.linalg.norm(centrality - prev_centrality) < tol:
            break
    # Map centrality back to node names
    return {nodes[i]: centrality[i] for i in range(n)}

# Display Results
print("\n--- Manual Centralities ---")
print("Manual Degree Centrality:", manual_degree_centrality(G))
print("Manual Closeness Centrality:", manual_closeness_centrality(G))
print("Manual Betweenness Centrality:", manual_betweenness_centrality(G))
print("Manual Katz Centrality:", manual_katz_centrality(G, alpha=0.1, beta=1.0))
print("Manual Eigenvector Centrality:", manual_eigenvector_centrality(G))
