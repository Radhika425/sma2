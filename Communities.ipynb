import networkx as nx
import community as community_louvain
import matplotlib.pyplot as plt

# Create a sample graph (Erdos-Renyi model)
# G = nx.erdos_renyi_graph(n=30, p=0.2, seed=42)
G = nx.planted_partition_graph(l=3, k=10, p_in=0.5, p_out=0.05, seed=42)
# ================================
# 1. Louvain Method (Modularity Maximization)
# ================================
def louvain_method(G):
    partition = community_louvain.best_partition(G)
    return partition
# ================================
# 2. Girvan-Newman Algorithm (Edge Betweenness)
# ================================
def girvan_newman(G):
    components = list(nx.connected_components(G))
    while len(components) == 1:  # While there's only one connected component
        edge_betweenness = nx.edge_betweenness_centrality(G)
        max_edge = max(edge_betweenness, key=edge_betweenness.get)
        G.remove_edge(*max_edge)
        components = list(nx.connected_components(G))
    return list(components)

# ================================
# 3. Label Propagation Algorithm
# ================================
def label_propagation(G):
    communities = list(nx.community.label_propagation_communities(G))
    return communities
# ================================
# Visualizing the Graph
# ================================
def plot_communities(G, communities, method_name):
    pos = nx.spring_layout(G)
    plt.figure(figsize=(8,6))
    # Generate a color map for each community
    color_map = plt.cm.get_cmap('tab20', len(communities))  # Use a color map with enough colors

    # Draw nodes with color based on the community
    for i, community in enumerate(communities):
        nx.draw_networkx_nodes(G, pos, nodelist=community, node_color=[color_map(i)], node_size=500)

    # Draw edges and labels
    nx.draw_networkx_edges(G, pos, alpha=0.5)
    nx.draw_networkx_labels(G, pos, font_size=10)

    plt.title(f"Community Detection using {method_name}")
    plt.show()

# ================================
# Apply Community Detection Algorithms
# ================================

# 1. Louvain Method
louvain_partition = louvain_method(G)
louvain_communities = {}
for node, community in louvain_partition.items():
    if community not in louvain_communities:
        louvain_communities[community] = []
    louvain_communities[community].append(node)
# Plot Louvain Method
plot_communities(G, list(louvain_communities.values()), "Louvain Method")
# 2. Girvan-Newman Algorithm
G_copy = G.copy()  # Make a copy of the graph to apply Girvan-Newman
girvan_newman_communities = girvan_newman(G_copy)
# Plot Girvan-Newman
plot_communities(G, girvan_newman_communities, "Girvan-Newman Algorithm")
# 3. Label Propagation Algorithm
label_propagation_communities = label_propagation(G)
# Plot Label Propagation
plot_communities(G, label_propagation_communities, "Label Propagation Algorithm")
